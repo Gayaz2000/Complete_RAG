{
 "cells": [
  {
   "cell_type": "markdown",
   "id": "5f5aadae",
   "metadata": {},
   "source": [
    "# Prompt Object in RAGAS"
   ]
  },
  {
   "cell_type": "code",
   "execution_count": null,
   "id": "1e990568",
   "metadata": {},
   "outputs": [],
   "source": [
    "from ragas.prompt import PydanticPrompt\n",
    "from pydantic import BaseModel, Field\n",
    "\n",
    "class MyInput(BaseModel):\n",
    "    question: str = Field(description=\"The question from user\")\n",
    "\n",
    "class MyOutput(BaseModel):\n",
    "    answer: str = Field(description=\"The answer to the user question\")\n",
    "\n",
    "class MyPrompt(PydanticPrompt[MyInput, MyOutput]):\n",
    "    instruction = \"Answer the question\"\n",
    "    input_model = MyInput\n",
    "    output_model = MyOutput\n",
    "    examples = [\n",
    "        (\n",
    "            MyInput(question=\"Who's building the opensource standard for LLM app evals?\"),\n",
    "            MyOutput(answer=\"Ragas\")\n",
    "        )\n",
    "    ]"
   ]
  }
 ],
 "metadata": {
  "kernelspec": {
   "display_name": "Complete_RAG",
   "language": "python",
   "name": "python3"
  },
  "language_info": {
   "name": "python",
   "version": "3.13.3"
  }
 },
 "nbformat": 4,
 "nbformat_minor": 5
}
