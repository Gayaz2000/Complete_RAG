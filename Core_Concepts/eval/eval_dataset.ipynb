{
 "cells": [
  {
   "cell_type": "markdown",
   "id": "7910618e",
   "metadata": {},
   "source": [
    "# Evaluation Dataset"
   ]
  },
  {
   "cell_type": "markdown",
   "id": "86bbfbc4",
   "metadata": {},
   "source": [
    "An evaluation dataset is a homogeneous collection of data samples designed to assess the performance and capabilities of an AI application."
   ]
  },
  {
   "cell_type": "markdown",
   "id": "bb544592",
   "metadata": {},
   "source": [
    "###SingleTurnSample Evaluation"
   ]
  },
  {
   "cell_type": "code",
   "execution_count": 1,
   "id": "a7bd3137",
   "metadata": {},
   "outputs": [
    {
     "name": "stderr",
     "output_type": "stream",
     "text": [
      "d:\\My Files\\RAG_with_RAGAS\\.venv\\Lib\\site-packages\\tqdm\\auto.py:21: TqdmWarning: IProgress not found. Please update jupyter and ipywidgets. See https://ipywidgets.readthedocs.io/en/stable/user_install.html\n",
      "  from .autonotebook import tqdm as notebook_tqdm\n"
     ]
    }
   ],
   "source": [
    "from ragas import SingleTurnSample, EvaluationDataset\n",
    "\n",
    "# Sample 1\n",
    "sample1 = SingleTurnSample(\n",
    "    user_input=\"What is the capital of Germany?\",\n",
    "    retrieved_contexts=[\"Berlin is the capital and largest city of Germany.\"],\n",
    "    response=\"The capital of Germany is Berlin.\",\n",
    "    reference=\"Berlin\",\n",
    ")\n",
    "\n",
    "# Sample 2\n",
    "sample2 = SingleTurnSample(\n",
    "    user_input=\"Who wrote 'Pride and Prejudice'?\",\n",
    "    retrieved_contexts=[\"'Pride and Prejudice' is a novel by Jane Austen.\"],\n",
    "    response=\"'Pride and Prejudice' was written by Jane Austen.\",\n",
    "    reference=\"Jane Austen\",\n",
    ")\n",
    "\n",
    "# Sample 3\n",
    "sample3 = SingleTurnSample(\n",
    "    user_input=\"What's the chemical formula for water?\",\n",
    "    retrieved_contexts=[\"Water has the chemical formula H2O.\"],\n",
    "    response=\"The chemical formula for water is H2O.\",\n",
    "    reference=\"H2O\",\n",
    ")"
   ]
  },
  {
   "cell_type": "code",
   "execution_count": 2,
   "id": "6ea8e3c0",
   "metadata": {},
   "outputs": [],
   "source": [
    "evaluation_dataset = EvaluationDataset(samples=[sample1, sample2, sample3])"
   ]
  },
  {
   "cell_type": "code",
   "execution_count": 4,
   "id": "0b5a41f8",
   "metadata": {},
   "outputs": [
    {
     "data": {
      "text/plain": [
       "SingleTurnSample(user_input='What is the capital of Germany?', retrieved_contexts=['Berlin is the capital and largest city of Germany.'], reference_contexts=None, response='The capital of Germany is Berlin.', multi_responses=None, reference='Berlin', rubrics=None)"
      ]
     },
     "execution_count": 4,
     "metadata": {},
     "output_type": "execute_result"
    }
   ],
   "source": [
    "evaluation_dataset[0]"
   ]
  },
  {
   "cell_type": "markdown",
   "id": "80928003",
   "metadata": {},
   "source": [
    "##Building Evaluation Dataset from HuggingFace"
   ]
  },
  {
   "cell_type": "code",
   "execution_count": null,
   "id": "82ae7529",
   "metadata": {},
   "outputs": [
    {
     "name": "stderr",
     "output_type": "stream",
     "text": [
      "\n",
      "[notice] A new release of pip is available: 24.0 -> 25.1.1\n",
      "[notice] To update, run: C:\\Users\\user\\AppData\\Local\\Microsoft\\WindowsApps\\PythonSoftwareFoundation.Python.3.11_qbz5n2kfra8p0\\python.exe -m pip install --upgrade pip\n",
      "d:\\My Files\\RAG_with_RAGAS\\.venv\\Lib\\site-packages\\huggingface_hub\\file_download.py:143: UserWarning: `huggingface_hub` cache-system uses symlinks by default to efficiently store duplicated files but your machine does not support them in C:\\Users\\user\\.cache\\huggingface\\hub\\datasets--natural_questions. Caching files will still work but in a degraded version that might require more space on your disk. This warning can be disabled by setting the `HF_HUB_DISABLE_SYMLINKS_WARNING` environment variable. For more details, see https://huggingface.co/docs/huggingface_hub/how-to-cache#limitations.\n",
      "To support symlinks on Windows, you either need to activate Developer Mode or to run Python as an administrator. In order to activate developer mode, see this article: https://docs.microsoft.com/en-us/windows/apps/get-started/enable-your-device-for-development\n",
      "  warnings.warn(message)\n",
      "Downloading data:   1%|          | 2/287 [01:13<2:56:48, 37.22s/files]"
     ]
    }
   ],
   "source": [
    "!pip install -q datasets\n",
    "\n",
    "from datasets import load_dataset\n",
    "\n",
    "dataset = load_dataset(\"natural_questions\", \"default\")"
   ]
  },
  {
   "cell_type": "code",
   "execution_count": null,
   "id": "3fdf8d1d",
   "metadata": {},
   "outputs": [],
   "source": [
    "from ragas import EvaluationDataset\n",
    "\n",
    "eval_dataset = EvaluationDataset.from_hf_dataset(dataset)"
   ]
  }
 ],
 "metadata": {
  "kernelspec": {
   "display_name": "Complete_RAG",
   "language": "python",
   "name": "python3"
  },
  "language_info": {
   "codemirror_mode": {
    "name": "ipython",
    "version": 3
   },
   "file_extension": ".py",
   "mimetype": "text/x-python",
   "name": "python",
   "nbconvert_exporter": "python",
   "pygments_lexer": "ipython3",
   "version": "3.13.3"
  }
 },
 "nbformat": 4,
 "nbformat_minor": 5
}
