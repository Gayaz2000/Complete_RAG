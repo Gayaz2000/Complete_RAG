{
 "cells": [
  {
   "cell_type": "markdown",
   "id": "77452ddf",
   "metadata": {},
   "source": [
    "# Evaluation Sample"
   ]
  },
  {
   "cell_type": "markdown",
   "id": "58a30c20",
   "metadata": {},
   "source": [
    "##SingleTurnSample"
   ]
  },
  {
   "cell_type": "code",
   "execution_count": 4,
   "id": "210f8582",
   "metadata": {},
   "outputs": [],
   "source": [
    "from ragas import SingleTurnSample\n",
    "\n",
    "# User's question\n",
    "user_input = \"What is the capital of France?\"\n",
    "\n",
    "# Retrieved contexts (e.g., from a knowledge base or search engine)\n",
    "retrieved_contexts = [\"Paris is the capital and most populous city of France.\"]\n",
    "\n",
    "# AI's response\n",
    "response = \"The capital of France is Paris.\"\n",
    "\n",
    "# Reference answer (ground truth)\n",
    "reference = \"Paris\"\n",
    "\n",
    "# Evaluation rubric\n",
    "rubric = {\n",
    "    \"accuracy\": \"Correct\",\n",
    "    \"completeness\": \"High\",\n",
    "    \"fluency\": \"Excellent\"\n",
    "}\n",
    "\n",
    "# Create the SingleTurnSample instance\n",
    "sample = SingleTurnSample(\n",
    "    user_input=user_input,\n",
    "    retrieved_contexts=retrieved_contexts,\n",
    "    response=response,\n",
    "    reference=reference,\n",
    "    rubric=rubric\n",
    ")"
   ]
  },
  {
   "cell_type": "code",
   "execution_count": 7,
   "id": "8ec5d44c",
   "metadata": {},
   "outputs": [
    {
     "data": {
      "text/plain": [
       "SingleTurnSample(user_input='What is the capital of France?', retrieved_contexts=['Paris is the capital and most populous city of France.'], reference_contexts=None, response='The capital of France is Paris.', multi_responses=None, reference='Paris', rubrics=None)"
      ]
     },
     "execution_count": 7,
     "metadata": {},
     "output_type": "execute_result"
    }
   ],
   "source": [
    "sample"
   ]
  },
  {
   "cell_type": "markdown",
   "id": "aa9a1762",
   "metadata": {},
   "source": [
    "##MultiTurnSample"
   ]
  },
  {
   "cell_type": "code",
   "execution_count": 8,
   "id": "acbf8a08",
   "metadata": {},
   "outputs": [],
   "source": [
    "from ragas.messages import HumanMessage, AIMessage, ToolMessage, ToolCall\n",
    "\n",
    "user_message = HumanMessage(content=\"What's the weather like in New York City today?\")\n",
    "\n",
    "ai_initial_response = AIMessage(\n",
    "    content= \"Let me check the current weather in New York City for you.\",\n",
    "    tool_calls= [ToolCall(name=\"WeatherAPI\", args={\"location\":\"New York City\"})]\n",
    ")\n",
    "\n",
    "tool_response = ToolMessage(content=\"It's sunny and 75 degrees Fahrenheit in New York City today.\")\n",
    "\n",
    "ai_final_response = AIMessage(content=\"It's sunny and 75 degrees Fahrenheit in New York City today.\")\n",
    "\n",
    "\n",
    "converstion = [\n",
    "    user_message,\n",
    "    ai_initial_response,\n",
    "    tool_response,\n",
    "    ai_final_response\n",
    "]"
   ]
  },
  {
   "cell_type": "code",
   "execution_count": 9,
   "id": "d0c686b3",
   "metadata": {},
   "outputs": [],
   "source": [
    "from ragas import MultiTurnSample\n",
    "\n",
    "reference_response = \"Provide the current weather in New York City to the user.\"\n",
    "\n",
    "\n",
    "sample = MultiTurnSample(\n",
    "    user_input= converstion,\n",
    "    reference= reference_response\n",
    ") "
   ]
  },
  {
   "cell_type": "code",
   "execution_count": 10,
   "id": "b6da28ff",
   "metadata": {},
   "outputs": [
    {
     "data": {
      "text/plain": [
       "MultiTurnSample(user_input=[HumanMessage(content=\"What's the weather like in New York City today?\", metadata=None, type='human'), AIMessage(content='Let me check the current weather in New York City for you.', metadata=None, type='ai', tool_calls=[ToolCall(name='WeatherAPI', args={'location': 'New York City'})]), ToolMessage(content=\"It's sunny and 75 degrees Fahrenheit in New York City today.\", metadata=None, type='tool'), AIMessage(content=\"It's sunny and 75 degrees Fahrenheit in New York City today.\", metadata=None, type='ai', tool_calls=None)], reference='Provide the current weather in New York City to the user.', reference_tool_calls=None, rubrics=None, reference_topics=None)"
      ]
     },
     "execution_count": 10,
     "metadata": {},
     "output_type": "execute_result"
    }
   ],
   "source": [
    "sample"
   ]
  },
  {
   "cell_type": "code",
   "execution_count": null,
   "id": "ad7ceb02",
   "metadata": {},
   "outputs": [],
   "source": []
  }
 ],
 "metadata": {
  "kernelspec": {
   "display_name": "Complete_RAG",
   "language": "python",
   "name": "python3"
  },
  "language_info": {
   "codemirror_mode": {
    "name": "ipython",
    "version": 3
   },
   "file_extension": ".py",
   "mimetype": "text/x-python",
   "name": "python",
   "nbconvert_exporter": "python",
   "pygments_lexer": "ipython3",
   "version": "3.13.3"
  }
 },
 "nbformat": 4,
 "nbformat_minor": 5
}
