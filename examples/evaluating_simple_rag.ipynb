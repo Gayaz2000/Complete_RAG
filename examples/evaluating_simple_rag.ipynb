{
 "cells": [
  {
   "cell_type": "markdown",
   "id": "1e408f7e",
   "metadata": {},
   "source": [
    "# Evaluating a simple RAG system"
   ]
  },
  {
   "cell_type": "markdown",
   "id": "5a3e696a",
   "metadata": {},
   "source": [
    "###Loading LLM and Embedding Models"
   ]
  },
  {
   "cell_type": "code",
   "execution_count": 1,
   "id": "6d527c45",
   "metadata": {},
   "outputs": [],
   "source": [
    "import os\n",
    "from dotenv import load_dotenv\n",
    "load_dotenv()\n",
    "\n",
    "os.environ[\"GROQ_API_KEY\"] = os.getenv(\"GROQ_API_KEY\")"
   ]
  },
  {
   "cell_type": "code",
   "execution_count": 1,
   "id": "cddf1055",
   "metadata": {},
   "outputs": [],
   "source": [
    "from langchain_groq import ChatGroq\n",
    "from langchain_ollama import OllamaEmbeddings\n",
    "\n",
    "llm = ChatGroq(model=\"llama3-8b-8192\")\n",
    "embed = OllamaEmbeddings(model=\"llama3.2:1b\")"
   ]
  },
  {
   "cell_type": "code",
   "execution_count": null,
   "id": "3cb4df68",
   "metadata": {},
   "outputs": [
    {
     "ename": "ModuleNotFoundError",
     "evalue": "No module named 'rag_pipeline'",
     "output_type": "error",
     "traceback": [
      "\u001b[31m---------------------------------------------------------------------------\u001b[39m",
      "\u001b[31mModuleNotFoundError\u001b[39m                       Traceback (most recent call last)",
      "\u001b[36mCell\u001b[39m\u001b[36m \u001b[39m\u001b[32mIn[2]\u001b[39m\u001b[32m, line 1\u001b[39m\n\u001b[32m----> \u001b[39m\u001b[32m1\u001b[39m \u001b[38;5;28;01mfrom\u001b[39;00m\u001b[38;5;250m \u001b[39m\u001b[34;01mrag_pipeline\u001b[39;00m\u001b[34;01m.\u001b[39;00m\u001b[34;01mpipe\u001b[39;00m\u001b[38;5;250m \u001b[39m\u001b[38;5;28;01mimport\u001b[39;00m RAGPipeline\n\u001b[32m      3\u001b[39m sample_docs = [\n\u001b[32m      4\u001b[39m         \u001b[33m\"\u001b[39m\u001b[33mAlbert Einstein proposed the theory of relativity, which transformed our understanding of time, space, and gravity.\u001b[39m\u001b[33m\"\u001b[39m,\n\u001b[32m      5\u001b[39m         \u001b[33m\"\u001b[39m\u001b[33mMarie Curie was a physicist and chemist who conducted pioneering research on radioactivity and won two Nobel Prizes.\u001b[39m\u001b[33m\"\u001b[39m,\n\u001b[32m   (...)\u001b[39m\u001b[32m      8\u001b[39m         \u001b[33m\"\u001b[39m\u001b[33mAda Lovelace is regarded as the first computer programmer for her work on Charles Babbage\u001b[39m\u001b[33m'\u001b[39m\u001b[33ms early mechanical computer, the Analytical Engine.\u001b[39m\u001b[33m\"\u001b[39m\n\u001b[32m      9\u001b[39m     ]\n",
      "\u001b[31mModuleNotFoundError\u001b[39m: No module named 'rag_pipeline'"
     ]
    }
   ],
   "source": [
    "from rag_pipeline.pipe import RAGPipeline\n",
    "\n",
    "sample_docs = [\n",
    "        \"Albert Einstein proposed the theory of relativity, which transformed our understanding of time, space, and gravity.\",\n",
    "        \"Marie Curie was a physicist and chemist who conducted pioneering research on radioactivity and won two Nobel Prizes.\",\n",
    "        \"Isaac Newton formulated the laws of motion and universal gravitation, laying the foundation for classical mechanics.\",\n",
    "        \"Charles Darwin introduced the theory of evolution by natural selection in his book 'On the Origin of Species'.\",\n",
    "        \"Ada Lovelace is regarded as the first computer programmer for her work on Charles Babbage's early mechanical computer, the Analytical Engine.\"\n",
    "    ]"
   ]
  },
  {
   "cell_type": "code",
   "execution_count": null,
   "id": "fbcef528",
   "metadata": {},
   "outputs": [],
   "source": []
  }
 ],
 "metadata": {
  "kernelspec": {
   "display_name": "Complete_RAG",
   "language": "python",
   "name": "python3"
  },
  "language_info": {
   "codemirror_mode": {
    "name": "ipython",
    "version": 3
   },
   "file_extension": ".py",
   "mimetype": "text/x-python",
   "name": "python",
   "nbconvert_exporter": "python",
   "pygments_lexer": "ipython3",
   "version": "3.13.3"
  }
 },
 "nbformat": 4,
 "nbformat_minor": 5
}
