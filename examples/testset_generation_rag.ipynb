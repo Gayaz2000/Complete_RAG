{
 "cells": [
  {
   "cell_type": "markdown",
   "id": "fe4eb57b",
   "metadata": {},
   "source": [
    "# Testset Generation for RAG"
   ]
  },
  {
   "cell_type": "markdown",
   "id": "21498292",
   "metadata": {},
   "source": [
    "#Directory loader"
   ]
  },
  {
   "cell_type": "code",
   "execution_count": null,
   "id": "cc89dec1",
   "metadata": {},
   "outputs": [],
   "source": [
    "from langchain_community.document_loaders import DirectoryLoader\n",
    "\n",
    "async def adocument_loader(path: str = r\"D:\\My Files\\RAG_with_RAGAS\\Sample_Docs_Markdown\"):\n",
    "    loader = DirectoryLoader(path, glob=\"**/*.md\")\n",
    "    docs = await loader.aload()\n",
    "    return docs"
   ]
  },
  {
   "cell_type": "code",
   "execution_count": null,
   "id": "ca0b9790",
   "metadata": {},
   "outputs": [
    {
     "data": {
      "text/plain": [
       "Document(metadata={'source': 'D:\\\\My Files\\\\RAG_with_RAGAS\\\\Sample_Docs_Markdown\\\\advisory-group-members.md'}, page_content='layout: default title: Advisory Group Members description: \"This page lists the members of the Diversity, Inclusion & Belonging Advisory Group.\"\\n\\n{{< group-by-expertise \"Diversity, Inclusion & Belonging Advisory Group\" >}}')"
      ]
     },
     "execution_count": 11,
     "metadata": {},
     "output_type": "execute_result"
    }
   ],
   "source": [
    "import nest_asyncio\n",
    "nest_asyncio.apply()\n",
    "import asyncio\n",
    "\n",
    "docs = asyncio.run(adocument_loader())\n",
    "docs[0]"
   ]
  },
  {
   "cell_type": "markdown",
   "id": "ce0a7eeb",
   "metadata": {},
   "source": [
    "#LLM"
   ]
  },
  {
   "cell_type": "code",
   "execution_count": 6,
   "id": "b0c69445",
   "metadata": {},
   "outputs": [],
   "source": [
    "import os\n",
    "from dotenv import load_dotenv\n",
    "load_dotenv()\n",
    "\n",
    "os.environ[\"GROQ_API_KEY\"] = os.getenv(\"GROQ_API_KEY\")"
   ]
  },
  {
   "cell_type": "code",
   "execution_count": 7,
   "id": "6118c406",
   "metadata": {},
   "outputs": [],
   "source": [
    "from langchain_groq import ChatGroq\n",
    "\n",
    "llm = ChatGroq(model=\"llama3-8b-8192\")"
   ]
  },
  {
   "cell_type": "markdown",
   "id": "1d7cee17",
   "metadata": {},
   "source": [
    "#Loading Embeding model & LLM chain "
   ]
  },
  {
   "cell_type": "code",
   "execution_count": 8,
   "id": "5a820d5d",
   "metadata": {},
   "outputs": [],
   "source": [
    "from ragas.llms import LangchainLLMWrapper\n",
    "from ragas.embeddings import LangchainEmbeddingsWrapper\n",
    "from langchain_ollama import OllamaEmbeddings\n",
    "\n",
    "generator_chain = LangchainLLMWrapper(llm)\n",
    "generator_embedding = LangchainEmbeddingsWrapper(OllamaEmbeddings(model=\"llama3.2:1b\"))"
   ]
  },
  {
   "cell_type": "markdown",
   "id": "0a704b08",
   "metadata": {},
   "source": [
    "#Generate Testset"
   ]
  },
  {
   "cell_type": "code",
   "execution_count": 13,
   "id": "01d93c75",
   "metadata": {},
   "outputs": [
    {
     "name": "stderr",
     "output_type": "stream",
     "text": [
      "Applying HeadlinesExtractor:   0%|          | 0/5 [00:00<?, ?it/s]"
     ]
    },
    {
     "name": "stderr",
     "output_type": "stream",
     "text": [
      "Applying HeadlineSplitter:   0%|          | 0/12 [00:00<?, ?it/s]         unable to apply transformation: 'headlines' property not found in this node\n",
      "unable to apply transformation: 'headlines' property not found in this node\n",
      "unable to apply transformation: 'headlines' property not found in this node\n",
      "unable to apply transformation: 'headlines' property not found in this node\n",
      "unable to apply transformation: 'headlines' property not found in this node\n",
      "unable to apply transformation: 'headlines' property not found in this node\n",
      "unable to apply transformation: 'headlines' property not found in this node\n",
      "Applying SummaryExtractor:  14%|█▍        | 1/7 [01:11<07:10, 71.81s/it]Property 'summary' already exists in node 'd4f8a8'. Skipping!\n",
      "Applying SummaryExtractor:  43%|████▎     | 3/7 [01:41<01:52, 28.01s/it]Property 'summary' already exists in node '592e6d'. Skipping!\n",
      "Applying [EmbeddingExtractor, ThemesExtractor, NERExtractor]:   0%|          | 0/25 [00:00<?, ?it/s]Property 'summary_embedding' already exists in node 'd4f8a8'. Skipping!\n",
      "Property 'summary_embedding' already exists in node '592e6d'. Skipping!\n",
      "Generating personas: 100%|██████████| 3/3 [00:18<00:00,  6.01s/it]                                           \n",
      "Generating Scenarios: 100%|██████████| 3/3 [02:21<00:00, 47.29s/it]\n",
      "Generating Samples: 100%|██████████| 12/12 [04:35<00:00, 22.94s/it]\n"
     ]
    }
   ],
   "source": [
    "from ragas.testset import TestsetGenerator\n",
    "\n",
    "generator = TestsetGenerator(llm=generator_chain, embedding_model=generator_embedding)\n",
    "dataset = generator.generate_with_langchain_docs(docs, testset_size=10)"
   ]
  },
  {
   "cell_type": "markdown",
   "id": "7f990715",
   "metadata": {},
   "source": [
    "#Analyzing Dataset"
   ]
  },
  {
   "cell_type": "code",
   "execution_count": 14,
   "id": "87a164f3",
   "metadata": {},
   "outputs": [
    {
     "data": {
      "text/html": [
       "<div>\n",
       "<style scoped>\n",
       "    .dataframe tbody tr th:only-of-type {\n",
       "        vertical-align: middle;\n",
       "    }\n",
       "\n",
       "    .dataframe tbody tr th {\n",
       "        vertical-align: top;\n",
       "    }\n",
       "\n",
       "    .dataframe thead th {\n",
       "        text-align: right;\n",
       "    }\n",
       "</style>\n",
       "<table border=\"1\" class=\"dataframe\">\n",
       "  <thead>\n",
       "    <tr style=\"text-align: right;\">\n",
       "      <th></th>\n",
       "      <th>user_input</th>\n",
       "      <th>reference_contexts</th>\n",
       "      <th>reference</th>\n",
       "      <th>synthesizer_name</th>\n",
       "    </tr>\n",
       "  </thead>\n",
       "  <tbody>\n",
       "    <tr>\n",
       "      <th>0</th>\n",
       "      <td>What resources and tools does GitLab provide t...</td>\n",
       "      <td>[title: \"The Ally Lab\" description: Learn what...</td>\n",
       "      <td>The Ally Lab at GitLab provides tools, resourc...</td>\n",
       "      <td>single_hop_specifc_query_synthesizer</td>\n",
       "    </tr>\n",
       "    <tr>\n",
       "      <th>1</th>\n",
       "      <td>whats zoom</td>\n",
       "      <td>[Empathy &amp; Emotional Intelligence An example o...</td>\n",
       "      <td>Zoom is an example of a tool used in a meeting...</td>\n",
       "      <td>single_hop_specifc_query_synthesizer</td>\n",
       "    </tr>\n",
       "    <tr>\n",
       "      <th>2</th>\n",
       "      <td>what is asia in the context of allyship</td>\n",
       "      <td>[What it means to be an ally Take on the strug...</td>\n",
       "      <td>Asia is not mentioned in the context of allysh...</td>\n",
       "      <td>single_hop_specifc_query_synthesizer</td>\n",
       "    </tr>\n",
       "    <tr>\n",
       "      <th>3</th>\n",
       "      <td>what allyship trainings are avalible in europe</td>\n",
       "      <td>[Page. Think about what you have individually ...</td>\n",
       "      <td>There are no specific allyship trainings menti...</td>\n",
       "      <td>single_hop_specifc_query_synthesizer</td>\n",
       "    </tr>\n",
       "    <tr>\n",
       "      <th>4</th>\n",
       "      <td>How can a sponsor effectively use their power ...</td>\n",
       "      <td>[&lt;1-hop&gt;\\n\\ntitle: \" Sales Sponsorship Pilot P...</td>\n",
       "      <td>A sponsor can effectively use their power and ...</td>\n",
       "      <td>multi_hop_abstract_query_synthesizer</td>\n",
       "    </tr>\n",
       "    <tr>\n",
       "      <th>5</th>\n",
       "      <td>What are the challenges faced by team members ...</td>\n",
       "      <td>[&lt;1-hop&gt;\\n\\ntitle: \" Sales Sponsorship Pilot P...</td>\n",
       "      <td>The challenges faced by team members from unde...</td>\n",
       "      <td>multi_hop_abstract_query_synthesizer</td>\n",
       "    </tr>\n",
       "    <tr>\n",
       "      <th>6</th>\n",
       "      <td>How can cultural competency and consciousness ...</td>\n",
       "      <td>[&lt;1-hop&gt;\\n\\nWhat it means to be an ally Take o...</td>\n",
       "      <td>Fostering cultural competency and consciousnes...</td>\n",
       "      <td>multi_hop_abstract_query_synthesizer</td>\n",
       "    </tr>\n",
       "    <tr>\n",
       "      <th>7</th>\n",
       "      <td>What are some effective ways to foster a cultu...</td>\n",
       "      <td>[&lt;1-hop&gt;\\n\\ntitle: \" Building an Inclusive Rem...</td>\n",
       "      <td>Fostering a culture of inclusivity and fairnes...</td>\n",
       "      <td>multi_hop_abstract_query_synthesizer</td>\n",
       "    </tr>\n",
       "    <tr>\n",
       "      <th>8</th>\n",
       "      <td>What are some ways to foster an inclusive remo...</td>\n",
       "      <td>[&lt;1-hop&gt;\\n\\nWhat it means to be an ally Take o...</td>\n",
       "      <td>Fostering an inclusive remote culture requires...</td>\n",
       "      <td>multi_hop_specific_query_synthesizer</td>\n",
       "    </tr>\n",
       "    <tr>\n",
       "      <th>9</th>\n",
       "      <td>What are some essential skills required to be ...</td>\n",
       "      <td>[&lt;1-hop&gt;\\n\\nPage. Think about what you have in...</td>\n",
       "      <td>According to the context, some essential skill...</td>\n",
       "      <td>multi_hop_specific_query_synthesizer</td>\n",
       "    </tr>\n",
       "    <tr>\n",
       "      <th>10</th>\n",
       "      <td>What are the key characteristics of a successf...</td>\n",
       "      <td>[&lt;1-hop&gt;\\n\\nSponsorship Program As a Sponsor y...</td>\n",
       "      <td>According to the context, a successful sponsor...</td>\n",
       "      <td>multi_hop_specific_query_synthesizer</td>\n",
       "    </tr>\n",
       "    <tr>\n",
       "      <th>11</th>\n",
       "      <td>What are the key takeaways from the sponsorshi...</td>\n",
       "      <td>[&lt;1-hop&gt;\\n\\nPage. Think about what you have in...</td>\n",
       "      <td>The sponsorship program at GitLab aims to prov...</td>\n",
       "      <td>multi_hop_specific_query_synthesizer</td>\n",
       "    </tr>\n",
       "  </tbody>\n",
       "</table>\n",
       "</div>"
      ],
      "text/plain": [
       "                                           user_input  \\\n",
       "0   What resources and tools does GitLab provide t...   \n",
       "1                                          whats zoom   \n",
       "2             what is asia in the context of allyship   \n",
       "3      what allyship trainings are avalible in europe   \n",
       "4   How can a sponsor effectively use their power ...   \n",
       "5   What are the challenges faced by team members ...   \n",
       "6   How can cultural competency and consciousness ...   \n",
       "7   What are some effective ways to foster a cultu...   \n",
       "8   What are some ways to foster an inclusive remo...   \n",
       "9   What are some essential skills required to be ...   \n",
       "10  What are the key characteristics of a successf...   \n",
       "11  What are the key takeaways from the sponsorshi...   \n",
       "\n",
       "                                   reference_contexts  \\\n",
       "0   [title: \"The Ally Lab\" description: Learn what...   \n",
       "1   [Empathy & Emotional Intelligence An example o...   \n",
       "2   [What it means to be an ally Take on the strug...   \n",
       "3   [Page. Think about what you have individually ...   \n",
       "4   [<1-hop>\\n\\ntitle: \" Sales Sponsorship Pilot P...   \n",
       "5   [<1-hop>\\n\\ntitle: \" Sales Sponsorship Pilot P...   \n",
       "6   [<1-hop>\\n\\nWhat it means to be an ally Take o...   \n",
       "7   [<1-hop>\\n\\ntitle: \" Building an Inclusive Rem...   \n",
       "8   [<1-hop>\\n\\nWhat it means to be an ally Take o...   \n",
       "9   [<1-hop>\\n\\nPage. Think about what you have in...   \n",
       "10  [<1-hop>\\n\\nSponsorship Program As a Sponsor y...   \n",
       "11  [<1-hop>\\n\\nPage. Think about what you have in...   \n",
       "\n",
       "                                            reference  \\\n",
       "0   The Ally Lab at GitLab provides tools, resourc...   \n",
       "1   Zoom is an example of a tool used in a meeting...   \n",
       "2   Asia is not mentioned in the context of allysh...   \n",
       "3   There are no specific allyship trainings menti...   \n",
       "4   A sponsor can effectively use their power and ...   \n",
       "5   The challenges faced by team members from unde...   \n",
       "6   Fostering cultural competency and consciousnes...   \n",
       "7   Fostering a culture of inclusivity and fairnes...   \n",
       "8   Fostering an inclusive remote culture requires...   \n",
       "9   According to the context, some essential skill...   \n",
       "10  According to the context, a successful sponsor...   \n",
       "11  The sponsorship program at GitLab aims to prov...   \n",
       "\n",
       "                        synthesizer_name  \n",
       "0   single_hop_specifc_query_synthesizer  \n",
       "1   single_hop_specifc_query_synthesizer  \n",
       "2   single_hop_specifc_query_synthesizer  \n",
       "3   single_hop_specifc_query_synthesizer  \n",
       "4   multi_hop_abstract_query_synthesizer  \n",
       "5   multi_hop_abstract_query_synthesizer  \n",
       "6   multi_hop_abstract_query_synthesizer  \n",
       "7   multi_hop_abstract_query_synthesizer  \n",
       "8   multi_hop_specific_query_synthesizer  \n",
       "9   multi_hop_specific_query_synthesizer  \n",
       "10  multi_hop_specific_query_synthesizer  \n",
       "11  multi_hop_specific_query_synthesizer  "
      ]
     },
     "execution_count": 14,
     "metadata": {},
     "output_type": "execute_result"
    }
   ],
   "source": [
    "dataset.to_pandas()"
   ]
  },
  {
   "cell_type": "markdown",
   "id": "b8253e96",
   "metadata": {},
   "source": [
    "#KnowledgeGraph creation"
   ]
  },
  {
   "cell_type": "code",
   "execution_count": 15,
   "id": "fef58d71",
   "metadata": {},
   "outputs": [],
   "source": [
    "from ragas.testset.graph import KnowledgeGraph\n",
    "\n",
    "kg = KnowledgeGraph()"
   ]
  },
  {
   "cell_type": "code",
   "execution_count": 16,
   "id": "0e1c5771",
   "metadata": {},
   "outputs": [],
   "source": [
    "from ragas.testset.graph import Node, NodeType\n",
    "\n",
    "for doc in docs:\n",
    "    kg.nodes.append(\n",
    "        Node(\n",
    "            type= NodeType.DOCUMENT,\n",
    "            properties={\"page_content\": doc.page_content, \"document_metadata\": doc.metadata},\n",
    "        )\n",
    "    )"
   ]
  },
  {
   "cell_type": "code",
   "execution_count": null,
   "id": "79b3788e",
   "metadata": {},
   "outputs": [
    {
     "name": "stderr",
     "output_type": "stream",
     "text": [
      "Applying HeadlineSplitter:   0%|          | 0/12 [00:00<?, ?it/s]         unable to apply transformation: 'headlines' property not found in this node\n",
      "unable to apply transformation: 'headlines' property not found in this node\n",
      "unable to apply transformation: 'headlines' property not found in this node\n",
      "unable to apply transformation: 'headlines' property not found in this node\n",
      "unable to apply transformation: 'headlines' property not found in this node\n",
      "unable to apply transformation: 'headlines' property not found in this node\n",
      "unable to apply transformation: 'headlines' property not found in this node\n",
      "                                                                 \r"
     ]
    },
    {
     "ename": "KeyboardInterrupt",
     "evalue": "",
     "output_type": "error",
     "traceback": [
      "\u001b[31m---------------------------------------------------------------------------\u001b[39m",
      "\u001b[31mKeyboardInterrupt\u001b[39m                         Traceback (most recent call last)",
      "\u001b[36mCell\u001b[39m\u001b[36m \u001b[39m\u001b[32mIn[17]\u001b[39m\u001b[32m, line 7\u001b[39m\n\u001b[32m      4\u001b[39m embedding_model = generator_embedding\n\u001b[32m      6\u001b[39m trans = default_transforms(documents= docs, llm= generator_chain, embedding_model= embedding_model)\n\u001b[32m----> \u001b[39m\u001b[32m7\u001b[39m \u001b[43mapply_transforms\u001b[49m\u001b[43m(\u001b[49m\u001b[43mkg\u001b[49m\u001b[43m,\u001b[49m\u001b[43m \u001b[49m\u001b[43mtrans\u001b[49m\u001b[43m)\u001b[49m\n",
      "\u001b[36mFile \u001b[39m\u001b[32md:\\My Files\\RAG_with_RAGAS\\.venv\\Lib\\site-packages\\ragas\\testset\\transforms\\engine.py:106\u001b[39m, in \u001b[36mapply_transforms\u001b[39m\u001b[34m(kg, transforms, run_config, callbacks)\u001b[39m\n\u001b[32m    104\u001b[39m \u001b[38;5;28;01mif\u001b[39;00m \u001b[38;5;28misinstance\u001b[39m(transforms, t.List):\n\u001b[32m    105\u001b[39m     \u001b[38;5;28;01mfor\u001b[39;00m transform \u001b[38;5;129;01min\u001b[39;00m transforms:\n\u001b[32m--> \u001b[39m\u001b[32m106\u001b[39m         \u001b[43masyncio\u001b[49m\u001b[43m.\u001b[49m\u001b[43mrun\u001b[49m\u001b[43m(\u001b[49m\n\u001b[32m    107\u001b[39m \u001b[43m            \u001b[49m\u001b[43mrun_coroutines\u001b[49m\u001b[43m(\u001b[49m\n\u001b[32m    108\u001b[39m \u001b[43m                \u001b[49m\u001b[43mtransform\u001b[49m\u001b[43m.\u001b[49m\u001b[43mgenerate_execution_plan\u001b[49m\u001b[43m(\u001b[49m\u001b[43mkg\u001b[49m\u001b[43m)\u001b[49m\u001b[43m,\u001b[49m\n\u001b[32m    109\u001b[39m \u001b[43m                \u001b[49m\u001b[43mget_desc\u001b[49m\u001b[43m(\u001b[49m\u001b[43mtransform\u001b[49m\u001b[43m)\u001b[49m\u001b[43m,\u001b[49m\n\u001b[32m    110\u001b[39m \u001b[43m                \u001b[49m\u001b[43mrun_config\u001b[49m\u001b[43m.\u001b[49m\u001b[43mmax_workers\u001b[49m\u001b[43m,\u001b[49m\n\u001b[32m    111\u001b[39m \u001b[43m            \u001b[49m\u001b[43m)\u001b[49m\n\u001b[32m    112\u001b[39m \u001b[43m        \u001b[49m\u001b[43m)\u001b[49m\n\u001b[32m    113\u001b[39m \u001b[38;5;66;03m# if Parallel, collect inside it and run it all\u001b[39;00m\n\u001b[32m    114\u001b[39m \u001b[38;5;28;01melif\u001b[39;00m \u001b[38;5;28misinstance\u001b[39m(transforms, Parallel):\n",
      "\u001b[36mFile \u001b[39m\u001b[32md:\\My Files\\RAG_with_RAGAS\\.venv\\Lib\\site-packages\\nest_asyncio.py:30\u001b[39m, in \u001b[36m_patch_asyncio.<locals>.run\u001b[39m\u001b[34m(main, debug)\u001b[39m\n\u001b[32m     28\u001b[39m task = asyncio.ensure_future(main)\n\u001b[32m     29\u001b[39m \u001b[38;5;28;01mtry\u001b[39;00m:\n\u001b[32m---> \u001b[39m\u001b[32m30\u001b[39m     \u001b[38;5;28;01mreturn\u001b[39;00m \u001b[43mloop\u001b[49m\u001b[43m.\u001b[49m\u001b[43mrun_until_complete\u001b[49m\u001b[43m(\u001b[49m\u001b[43mtask\u001b[49m\u001b[43m)\u001b[49m\n\u001b[32m     31\u001b[39m \u001b[38;5;28;01mfinally\u001b[39;00m:\n\u001b[32m     32\u001b[39m     \u001b[38;5;28;01mif\u001b[39;00m \u001b[38;5;129;01mnot\u001b[39;00m task.done():\n",
      "\u001b[36mFile \u001b[39m\u001b[32md:\\My Files\\RAG_with_RAGAS\\.venv\\Lib\\site-packages\\nest_asyncio.py:92\u001b[39m, in \u001b[36m_patch_loop.<locals>.run_until_complete\u001b[39m\u001b[34m(self, future)\u001b[39m\n\u001b[32m     90\u001b[39m     f._log_destroy_pending = \u001b[38;5;28;01mFalse\u001b[39;00m\n\u001b[32m     91\u001b[39m \u001b[38;5;28;01mwhile\u001b[39;00m \u001b[38;5;129;01mnot\u001b[39;00m f.done():\n\u001b[32m---> \u001b[39m\u001b[32m92\u001b[39m     \u001b[38;5;28;43mself\u001b[39;49m\u001b[43m.\u001b[49m\u001b[43m_run_once\u001b[49m\u001b[43m(\u001b[49m\u001b[43m)\u001b[49m\n\u001b[32m     93\u001b[39m     \u001b[38;5;28;01mif\u001b[39;00m \u001b[38;5;28mself\u001b[39m._stopping:\n\u001b[32m     94\u001b[39m         \u001b[38;5;28;01mbreak\u001b[39;00m\n",
      "\u001b[36mFile \u001b[39m\u001b[32md:\\My Files\\RAG_with_RAGAS\\.venv\\Lib\\site-packages\\nest_asyncio.py:115\u001b[39m, in \u001b[36m_patch_loop.<locals>._run_once\u001b[39m\u001b[34m(self)\u001b[39m\n\u001b[32m    108\u001b[39m     heappop(scheduled)\n\u001b[32m    110\u001b[39m timeout = (\n\u001b[32m    111\u001b[39m     \u001b[32m0\u001b[39m \u001b[38;5;28;01mif\u001b[39;00m ready \u001b[38;5;129;01mor\u001b[39;00m \u001b[38;5;28mself\u001b[39m._stopping\n\u001b[32m    112\u001b[39m     \u001b[38;5;28;01melse\u001b[39;00m \u001b[38;5;28mmin\u001b[39m(\u001b[38;5;28mmax\u001b[39m(\n\u001b[32m    113\u001b[39m         scheduled[\u001b[32m0\u001b[39m]._when - \u001b[38;5;28mself\u001b[39m.time(), \u001b[32m0\u001b[39m), \u001b[32m86400\u001b[39m) \u001b[38;5;28;01mif\u001b[39;00m scheduled\n\u001b[32m    114\u001b[39m     \u001b[38;5;28;01melse\u001b[39;00m \u001b[38;5;28;01mNone\u001b[39;00m)\n\u001b[32m--> \u001b[39m\u001b[32m115\u001b[39m event_list = \u001b[38;5;28;43mself\u001b[39;49m\u001b[43m.\u001b[49m\u001b[43m_selector\u001b[49m\u001b[43m.\u001b[49m\u001b[43mselect\u001b[49m\u001b[43m(\u001b[49m\u001b[43mtimeout\u001b[49m\u001b[43m)\u001b[49m\n\u001b[32m    116\u001b[39m \u001b[38;5;28mself\u001b[39m._process_events(event_list)\n\u001b[32m    118\u001b[39m end_time = \u001b[38;5;28mself\u001b[39m.time() + \u001b[38;5;28mself\u001b[39m._clock_resolution\n",
      "\u001b[36mFile \u001b[39m\u001b[32m~\\AppData\\Roaming\\uv\\python\\cpython-3.13.3-windows-x86_64-none\\Lib\\selectors.py:314\u001b[39m, in \u001b[36mSelectSelector.select\u001b[39m\u001b[34m(self, timeout)\u001b[39m\n\u001b[32m    312\u001b[39m ready = []\n\u001b[32m    313\u001b[39m \u001b[38;5;28;01mtry\u001b[39;00m:\n\u001b[32m--> \u001b[39m\u001b[32m314\u001b[39m     r, w, _ = \u001b[38;5;28;43mself\u001b[39;49m\u001b[43m.\u001b[49m\u001b[43m_select\u001b[49m\u001b[43m(\u001b[49m\u001b[38;5;28;43mself\u001b[39;49m\u001b[43m.\u001b[49m\u001b[43m_readers\u001b[49m\u001b[43m,\u001b[49m\u001b[43m \u001b[49m\u001b[38;5;28;43mself\u001b[39;49m\u001b[43m.\u001b[49m\u001b[43m_writers\u001b[49m\u001b[43m,\u001b[49m\u001b[43m \u001b[49m\u001b[43m[\u001b[49m\u001b[43m]\u001b[49m\u001b[43m,\u001b[49m\u001b[43m \u001b[49m\u001b[43mtimeout\u001b[49m\u001b[43m)\u001b[49m\n\u001b[32m    315\u001b[39m \u001b[38;5;28;01mexcept\u001b[39;00m \u001b[38;5;167;01mInterruptedError\u001b[39;00m:\n\u001b[32m    316\u001b[39m     \u001b[38;5;28;01mreturn\u001b[39;00m ready\n",
      "\u001b[36mFile \u001b[39m\u001b[32m~\\AppData\\Roaming\\uv\\python\\cpython-3.13.3-windows-x86_64-none\\Lib\\selectors.py:305\u001b[39m, in \u001b[36mSelectSelector._select\u001b[39m\u001b[34m(self, r, w, _, timeout)\u001b[39m\n\u001b[32m    304\u001b[39m \u001b[38;5;28;01mdef\u001b[39;00m\u001b[38;5;250m \u001b[39m\u001b[34m_select\u001b[39m(\u001b[38;5;28mself\u001b[39m, r, w, _, timeout=\u001b[38;5;28;01mNone\u001b[39;00m):\n\u001b[32m--> \u001b[39m\u001b[32m305\u001b[39m     r, w, x = \u001b[43mselect\u001b[49m\u001b[43m.\u001b[49m\u001b[43mselect\u001b[49m\u001b[43m(\u001b[49m\u001b[43mr\u001b[49m\u001b[43m,\u001b[49m\u001b[43m \u001b[49m\u001b[43mw\u001b[49m\u001b[43m,\u001b[49m\u001b[43m \u001b[49m\u001b[43mw\u001b[49m\u001b[43m,\u001b[49m\u001b[43m \u001b[49m\u001b[43mtimeout\u001b[49m\u001b[43m)\u001b[49m\n\u001b[32m    306\u001b[39m     \u001b[38;5;28;01mreturn\u001b[39;00m r, w + x, []\n",
      "\u001b[31mKeyboardInterrupt\u001b[39m: "
     ]
    },
    {
     "name": "stderr",
     "output_type": "stream",
     "text": [
      "Property 'summary' already exists in node '0b9c3f'. Skipping!\n",
      "Property 'summary' already exists in node '028dcc'. Skipping!\n"
     ]
    }
   ],
   "source": [
    "from ragas.testset.transforms import default_transforms, apply_transforms\n",
    "\n",
    "transformer_llm = generator_chain\n",
    "embedding_model = generator_embedding\n",
    "\n",
    "trans = default_transforms(documents= docs, llm= generator_chain, embedding_model= embedding_model)\n",
    "apply_transforms(kg, trans)"
   ]
  },
  {
   "cell_type": "code",
   "execution_count": null,
   "id": "41a2855e",
   "metadata": {},
   "outputs": [],
   "source": [
    "kg.save(\"knowledge_graph.json\")\n",
    "loaded_kg = KnowledgeGraph.load(\"knowledge_graph.json\")\n",
    "loaded_kg"
   ]
  },
  {
   "cell_type": "markdown",
   "id": "f31a0b16",
   "metadata": {},
   "source": [
    "#Testset Generation"
   ]
  },
  {
   "cell_type": "code",
   "execution_count": null,
   "id": "ad91eb44",
   "metadata": {},
   "outputs": [],
   "source": [
    "from ragas.testset import TestsetGenerator\n",
    "\n",
    "generator = TestsetGenerator(llm=generator_chain, embedding_model=embedding_model, knowledge_graph=loaded_kg)"
   ]
  },
  {
   "cell_type": "code",
   "execution_count": null,
   "id": "1ead7e40",
   "metadata": {},
   "outputs": [],
   "source": [
    "from ragas.testset.synthesizers import default_query_distribution\n",
    "\n",
    "query_distribution = default_query_distribution(generator_chain)"
   ]
  },
  {
   "cell_type": "code",
   "execution_count": null,
   "id": "e78d250e",
   "metadata": {},
   "outputs": [],
   "source": [
    "testset = generator.generate(testset_size=10, query_distribution=query_distribution)\n",
    "testset.to_pandas()"
   ]
  }
 ],
 "metadata": {
  "kernelspec": {
   "display_name": "Complete_RAG",
   "language": "python",
   "name": "python3"
  },
  "language_info": {
   "codemirror_mode": {
    "name": "ipython",
    "version": 3
   },
   "file_extension": ".py",
   "mimetype": "text/x-python",
   "name": "python",
   "nbconvert_exporter": "python",
   "pygments_lexer": "ipython3",
   "version": "3.13.3"
  }
 },
 "nbformat": 4,
 "nbformat_minor": 5
}
